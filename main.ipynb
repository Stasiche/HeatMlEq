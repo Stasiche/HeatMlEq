{
 "cells": [
  {
   "cell_type": "code",
   "execution_count": 2,
   "metadata": {},
   "outputs": [],
   "source": [
    "import numpy as np\n",
    "import matplotlib.pyplot as plt\n",
    "from math import sqrt\n",
    "\n",
    "import os"
   ]
  },
  {
   "cell_type": "code",
   "execution_count": 3,
   "metadata": {},
   "outputs": [],
   "source": [
    "def create_stocks_sources_coords(num_stocks:int, num_sources:int) -> list:\n",
    "    inds = np.random.choice(list(range(num_cells_in_row**2)), num_stocks + num_sources)\n",
    "    return list(zip(inds//num_cells_in_row, inds%num_cells_in_row))"
   ]
  },
  {
   "cell_type": "code",
   "execution_count": 4,
   "metadata": {},
   "outputs": [],
   "source": [
    "def plot_sample(field):\n",
    "    fig, ax = plt.subplots(figsize=(8,8),subplot_kw={'xticks': [], 'yticks': []})\n",
    "    abs_lim = abs(max(field.min(),field.max()))\n",
    "#     ax.imshow(field[1:-1, 1:-1], cmap=plt.get_cmap('coolwarm'),vmin=-1, vmax=1)\n",
    "    ax.imshow(field, cmap=plt.get_cmap('coolwarm'),vmin=-abs_lim, vmax=abs_lim)"
   ]
  },
  {
   "cell_type": "code",
   "execution_count": 5,
   "metadata": {},
   "outputs": [],
   "source": [
    "def set_stocks_sources(field:np.array, coords:list) -> None:\n",
    "    for sn, (x, y) in enumerate(coords):\n",
    "        if sn < num_stocks:\n",
    "            field[x+1,y+1] = -1\n",
    "        else:\n",
    "            field[x+1,y+1] = 1"
   ]
  },
  {
   "cell_type": "code",
   "execution_count": 58,
   "metadata": {},
   "outputs": [],
   "source": [
    "num_cells_in_row = 70\n",
    "num_stocks = 6\n",
    "num_sources = 5\n",
    "\n",
    "num_samples = int(1e5)"
   ]
  },
  {
   "cell_type": "code",
   "execution_count": 59,
   "metadata": {},
   "outputs": [
    {
     "name": "stdout",
     "output_type": "stream",
     "text": [
      "CPU times: user 15.2 ms, sys: 2.91 ms, total: 18.1 ms\n",
      "Wall time: 16 ms\n"
     ]
    },
    {
     "data": {
      "image/png": "[encoded data removed]",
      "text/plain": [
       "<Figure size 576x576 with 1 Axes>"
      ]
     },
     "metadata": {},
     "output_type": "display_data"
    }
   ],
   "source": [
    "# %%time\n",
    "stocks_sources_coords_list = []\n",
    "samples = np.zeros((num_samples, num_cells_in_row+2, num_cells_in_row+2))\n",
    "for i in range(num_samples):\n",
    "    stocks_sources_coords_list.append(create_stocks_sources_coords(num_stocks, num_sources))\n",
    "    set_stocks_sources(samples[i], stocks_sources_coords_list[-1])\n",
    "    plot_sample(samples[i])\n",
    "        "
   ]
  },
  {
   "cell_type": "code",
   "execution_count": 60,
   "metadata": {},
   "outputs": [],
   "source": [
    "save_arrays_path = os.path.join('.', 'results')\n",
    "\n",
    "X_save_path = os.path.join(save_arrays_path, 'X')\n",
    "y_save_path = os.path.join(save_arrays_path, 'y')\n",
    "if not (os.path.exists(save_arrays_path) and os.path.exists(X_save_path) and os.path.exists(y_save_path)):\n",
    "    os.makedirs(X_save_path)\n",
    "    os.mkdir(y_save_path)"
   ]
  },
  {
   "cell_type": "code",
   "execution_count": 63,
   "metadata": {},
   "outputs": [
    {
     "name": "stdout",
     "output_type": "stream",
     "text": [
      "CPU times: user 974 ms, sys: 51 ms, total: 1.03 s\n",
      "Wall time: 1.04 s\n"
     ]
    },
    {
     "data": {
      "image/png": "[encoded data removed]",
      "text/plain": [
       "<Figure size 576x576 with 1 Axes>"
      ]
     },
     "metadata": {},
     "output_type": "display_data"
    }
   ],
   "source": [
    "# %%time\n",
    "const = 0.01\n",
    "t_lim = 1e5\n",
    "for i in range(num_samples):\n",
    "    field = samples[i].copy()\n",
    "#     plot_sample(field)\n",
    "    \n",
    "    ddf = 0\n",
    "    df_abs = 0\n",
    "    t = 0\n",
    "    while True:\n",
    "        t += 1\n",
    "        df = const*(                   field[1:-1, :-2]   +\n",
    "                    field[:-2, 1:-1] - 4*field[1:-1,1:-1] + field[2:, 1:-1] +\n",
    "                                     + field[1:-1, 2:])\n",
    "        \n",
    "        df_abs = np.linalg.norm(df)\n",
    "        if (abs(df_abs - ddf) < 5e-8):\n",
    "            np.save(os.path.join(X_save_path, str(i)) , samples[i])\n",
    "            np.save(os.path.join(y_save_path, str(i)) , field)\n",
    "#             print(i, t)\n",
    "            plot_sample(field)\n",
    "            break\n",
    "            \n",
    "        if (t >= t_lim-1):\n",
    "            print('bad sample #', i)\n",
    "            break\n",
    "            \n",
    "        field[1:-1, 1:-1] += df\n",
    "        ddf = df_abs\n",
    "        set_stocks_sources(field, stocks_sources_coords_list[i])"
   ]
  },
  {
   "cell_type": "code",
   "execution_count": null,
   "metadata": {},
   "outputs": [],
   "source": []
  }
 ],
 "metadata": {
  "kernelspec": {
   "display_name": "Python 3",
   "language": "python",
   "name": "python3"
  },
  "language_info": {
   "codemirror_mode": {
    "name": "ipython",
    "version": 3
   },
   "file_extension": ".py",
   "mimetype": "text/x-python",
   "name": "python",
   "nbconvert_exporter": "python",
   "pygments_lexer": "ipython3",
   "version": "3.6.8"
  }
 },
 "nbformat": 4,
 "nbformat_minor": 4
}
